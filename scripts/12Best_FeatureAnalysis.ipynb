{
 "cells": [
  {
   "cell_type": "markdown",
   "metadata": {},
   "source": [
    "\n",
    "#Project \n",
    "\n",
    "In 2000, Enron was one of the largest companies in the United States. By 2002, it had collapsed into bankruptcy due to widespread corporate fraud. In the resulting Federal investigation, there was a significant amount of typically confidential information entered into public record, including tens of thousands of emails and detailed financial data for top executives. This is the project where I am build a person of interest identifier based on financial and email data made public as a result of the Enron scandal.\n",
    "\n",
    "##Preparation\n"
   ]
  },
  {
   "cell_type": "code",
   "execution_count": 1,
   "metadata": {
    "collapsed": false
   },
   "outputs": [],
   "source": [
    "import sys\n",
    "import pickle\n",
    "import numpy\n",
    "import pandas\n",
    "import sklearn\n",
    "from time import time\n",
    "from copy import copy\n",
    "\n",
    "\n",
    "#import ggplot\n",
    "#from ggplot import *\n",
    "import matplotlib\n",
    "%matplotlib inline\n",
    "\n",
    "import warnings\n",
    "warnings.filterwarnings('ignore')\n",
    "\n",
    "sys.path.append(\"../tools/\")\n",
    "\n",
    "from feature_format import featureFormat, targetFeatureSplit\n",
    "from tester import test_classifier, dump_classifier_and_data\n",
    "import enron \n",
    "import evaluate\n",
    "\n",
    "\n",
    "numpy.random.seed(42)"
   ]
  },
  {
   "cell_type": "markdown",
   "metadata": {},
   "source": [
    "##Create features list"
   ]
  },
  {
   "cell_type": "code",
   "execution_count": 2,
   "metadata": {
    "collapsed": false
   },
   "outputs": [
    {
     "name": "stdout",
     "output_type": "stream",
     "text": [
      "{'salary': 1111258, 'to_messages': 3627, 'deferral_payments': 'NaN', 'total_payments': 8682716, 'exercised_stock_options': 19250000, 'bonus': 5600000, 'restricted_stock': 6843672, 'shared_receipt_with_poi': 2042, 'restricted_stock_deferred': 'NaN', 'total_stock_value': 26093672, 'expenses': 29336, 'loan_advances': 'NaN', 'from_messages': 108, 'other': 22122, 'from_this_person_to_poi': 30, 'poi': True, 'director_fees': 'NaN', 'deferred_income': 'NaN', 'long_term_incentive': 1920000, 'email_address': 'jeff.skilling@enron.com', 'from_poi_to_this_person': 88}\n"
     ]
    }
   ],
   "source": [
    "## Create features list\n",
    "features_list = ['poi', 'salary', 'to_messages', 'deferral_payments', 'total_payments', \n",
    "                 'loan_advances', 'bonus', 'restricted_stock_deferred', \n",
    "                 'deferred_income', 'total_stock_value', 'expenses', 'from_poi_to_this_person', \n",
    "                 'exercised_stock_options', 'from_messages', 'other', 'from_this_person_to_poi', \n",
    "                 'long_term_incentive', 'shared_receipt_with_poi', 'restricted_stock', 'director_fees'] \n",
    "\n",
    "### Load the dictionary containing the dataset\n",
    "enron_data = pickle.load(open(\"final_project_dataset.pkl\", \"r\") )\n",
    "\n",
    "\n",
    "\n",
    "## Load POI names file\n",
    "fpoi = open(\"poi_names.txt\", \"r\")\n",
    "\n",
    "# Print available information for Jeffrey Skilling\n",
    "print enron_data[\"SKILLING JEFFREY K\"]"
   ]
  },
  {
   "cell_type": "markdown",
   "metadata": {},
   "source": [
    "##Outliers\n",
    "Detect and remove outliers"
   ]
  },
  {
   "cell_type": "code",
   "execution_count": 3,
   "metadata": {
    "collapsed": false
   },
   "outputs": [
    {
     "name": "stdout",
     "output_type": "stream",
     "text": [
      "97343619.0\n"
     ]
    },
    {
     "data": {
      "image/png": "[encoded data removed]",
      "text/plain": [
       "<matplotlib.figure.Figure at 0x2558970>"
      ]
     },
     "metadata": {},
     "output_type": "display_data"
    }
   ],
   "source": [
    "features = [\"bonus\", \"salary\"]\n",
    "data = featureFormat(enron_data, features)\n",
    "\n",
    "\n",
    "### your code below\n",
    "print data.max()\n",
    "for point in data:\n",
    "    bonus = point[0]\n",
    "    salary = point[1]\n",
    "    matplotlib.pyplot.scatter( bonus, salary )\n",
    "\n",
    "matplotlib.pyplot.xlabel(\"bonus\")\n",
    "matplotlib.pyplot.ylabel(\"salary\")\n",
    "matplotlib.pyplot.show()"
   ]
  },
  {
   "cell_type": "markdown",
   "metadata": {},
   "source": [
    "Holy cow, that is a big outlier, Let see who or what is it."
   ]
  },
  {
   "cell_type": "code",
   "execution_count": 4,
   "metadata": {
    "collapsed": false
   },
   "outputs": [
    {
     "name": "stdout",
     "output_type": "stream",
     "text": [
      "[('TOTAL', 97343619), ('LAVORATO JOHN J', 8000000)]\n"
     ]
    }
   ],
   "source": [
    "from pprint import pprint\n",
    "bonus_outliers = []\n",
    "for key in enron_data:\n",
    "    val = enron_data[key]['bonus']\n",
    "    if val == 'NaN':\n",
    "        continue\n",
    "    bonus_outliers.append((key,int(val)))\n",
    "\n",
    "pprint(sorted(bonus_outliers,key=lambda x:x[1],reverse=True)[:2])"
   ]
  },
  {
   "cell_type": "code",
   "execution_count": 5,
   "metadata": {
    "collapsed": false
   },
   "outputs": [
    {
     "name": "stdout",
     "output_type": "stream",
     "text": [
      "[('TOTAL', 26704229), ('SKILLING JEFFREY K', 1111258)]\n"
     ]
    }
   ],
   "source": [
    "salary_outliers = []\n",
    "for key in enron_data:\n",
    "    val = enron_data[key]['salary']\n",
    "    if val == 'NaN':\n",
    "        continue\n",
    "    salary_outliers.append((key,int(val)))\n",
    "\n",
    "pprint(sorted(salary_outliers,key=lambda x:x[1],reverse=True)[:2])"
   ]
  },
  {
   "cell_type": "markdown",
   "metadata": {},
   "source": [
    "**TOTAL** column as the major outlier in this dataset, Looking the the XLS we found it is the EXCEL artifact and should be removed.  Another outlier is also determined, **THE TRAVEL AGENCY IN THE PARK** this record did not represent an individual.  Both of these should be removed."
   ]
  },
  {
   "cell_type": "code",
   "execution_count": 6,
   "metadata": {
    "collapsed": false
   },
   "outputs": [
    {
     "name": "stdout",
     "output_type": "stream",
     "text": [
      "8000000.0\n"
     ]
    },
    {
     "data": {
      "image/png": "[encoded data removed]",
      "text/plain": [
       "<matplotlib.figure.Figure at 0x2558910>"
      ]
     },
     "metadata": {},
     "output_type": "display_data"
    }
   ],
   "source": [
    "features = [\"salary\", \"bonus\"]\n",
    "\n",
    "enron_data.pop('TOTAL',0)\n",
    "enron_data.pop('THE TRAVEL AGENCY IN THE PARK',0)\n",
    "\n",
    "my_dataset = copy(enron_data)\n",
    "my_feature_list = copy(features_list)\n",
    "\n",
    "data = featureFormat(enron_data, features)\n",
    "\n",
    "\n",
    "### your code below\n",
    "print data.max()\n",
    "for point in data:\n",
    "    salary = point[0]\n",
    "    bonus = point[1]\n",
    "    matplotlib.pyplot.scatter( salary, bonus )\n",
    "\n",
    "matplotlib.pyplot.xlabel(\"salary\")\n",
    "matplotlib.pyplot.ylabel(\"bonus\")\n",
    "matplotlib.pyplot.show()"
   ]
  },
  {
   "cell_type": "markdown",
   "metadata": {},
   "source": [
    "since 'from_poi_to_this_person' and 'from_this_person_to_poi' are very important features too, we shoudl investigate those w.r.t. outliers and remove any outliers."
   ]
  },
  {
   "cell_type": "code",
   "execution_count": 7,
   "metadata": {
    "collapsed": false
   },
   "outputs": [
    {
     "name": "stdout",
     "output_type": "stream",
     "text": [
      "609.0\n"
     ]
    },
    {
     "data": {
      "image/png": "[encoded data removed]",
      "text/plain": [
       "<matplotlib.figure.Figure at 0x9519330>"
      ]
     },
     "metadata": {},
     "output_type": "display_data"
    }
   ],
   "source": [
    "features = [\"from_this_person_to_poi\", \"from_poi_to_this_person\"]\n",
    "data = featureFormat(enron_data, features)\n",
    "\n",
    "\n",
    "### your code below\n",
    "print data.max()\n",
    "for point in data:\n",
    "    from_this_person_to_poi = point[0]\n",
    "    from_poi_to_this_person = point[1]\n",
    "    matplotlib.pyplot.scatter( from_this_person_to_poi, from_poi_to_this_person )\n",
    "\n",
    "matplotlib.pyplot.xlabel(\"from_this_person_to_poi\")\n",
    "matplotlib.pyplot.ylabel(\"from_poi_to_this_person\")\n",
    "matplotlib.pyplot.show()"
   ]
  },
  {
   "cell_type": "markdown",
   "metadata": {},
   "source": [
    "Looks like few more outliers, I am going to investigate them to see if I need to include or exclude them."
   ]
  },
  {
   "cell_type": "code",
   "execution_count": 8,
   "metadata": {
    "collapsed": false
   },
   "outputs": [
    {
     "name": "stdout",
     "output_type": "stream",
     "text": [
      "[('DELAINEY DAVID W', 609), ('LAVORATO JOHN J', 411)]\n"
     ]
    }
   ],
   "source": [
    "to_poi_outliers = []\n",
    "for key in enron_data:\n",
    "    val = enron_data[key]['from_this_person_to_poi']\n",
    "    if val == 'NaN':\n",
    "        continue\n",
    "    to_poi_outliers.append((key,int(val)))\n",
    "\n",
    "pprint(sorted(to_poi_outliers,key=lambda x:x[1],reverse=True)[:2])"
   ]
  },
  {
   "cell_type": "code",
   "execution_count": 9,
   "metadata": {
    "collapsed": false
   },
   "outputs": [
    {
     "name": "stdout",
     "output_type": "stream",
     "text": [
      "[('LAVORATO JOHN J', 528), ('DIETRICH JANET R', 305)]\n"
     ]
    }
   ],
   "source": [
    "from_poi_outliers = []\n",
    "for key in enron_data:\n",
    "    val = enron_data[key]['from_poi_to_this_person']\n",
    "    if val == 'NaN':\n",
    "        continue\n",
    "    from_poi_outliers.append((key,int(val)))\n",
    "\n",
    "pprint(sorted(from_poi_outliers,key=lambda x:x[1],reverse=True)[:2])"
   ]
  },
  {
   "cell_type": "markdown",
   "metadata": {},
   "source": [
    "These are real people and I am going to keep them in the dataset.  I'll only be removing 'TOTAL' and 'THE TRAVEL AGENCY IN THE PARK' for my final file."
   ]
  },
  {
   "cell_type": "markdown",
   "metadata": {},
   "source": [
    "##Load data into Pandas"
   ]
  },
  {
   "cell_type": "code",
   "execution_count": 10,
   "metadata": {
    "collapsed": false
   },
   "outputs": [],
   "source": [
    "df = pandas.DataFrame.from_records(list(enron_data.values()))\n",
    "persons = pandas.Series(list(enron_data.keys()))\n",
    "\n"
   ]
  },
  {
   "cell_type": "markdown",
   "metadata": {},
   "source": [
    "## Check and take care of \"NaN\"\n",
    "\n",
    "Lot of \"NaN\" values let us how many per feature."
   ]
  },
  {
   "cell_type": "code",
   "execution_count": 11,
   "metadata": {
    "collapsed": false
   },
   "outputs": [
    {
     "name": "stdout",
     "output_type": "stream",
     "text": [
      "bonus                         63\n",
      "deferral_payments            106\n",
      "deferred_income               96\n",
      "director_fees                128\n",
      "email_address                 33\n",
      "exercised_stock_options       43\n",
      "expenses                      50\n",
      "from_messages                 58\n",
      "from_poi_to_this_person       58\n",
      "from_this_person_to_poi       58\n",
      "loan_advances                141\n",
      "long_term_incentive           79\n",
      "other                         53\n",
      "poi                            0\n",
      "restricted_stock              35\n",
      "restricted_stock_deferred    127\n",
      "salary                        50\n",
      "shared_receipt_with_poi       58\n",
      "to_messages                   58\n",
      "total_payments                21\n",
      "total_stock_value             19\n",
      "dtype: int64\n",
      "(144, 21)\n"
     ]
    }
   ],
   "source": [
    "# Convert to numpy nan\n",
    "df.replace(to_replace='NaN', value=numpy.nan, inplace=True)\n",
    "\n",
    "# Count number of NaN's for columns\n",
    "print df.isnull().sum()\n",
    "\n",
    "# DataFrame dimeansion\n",
    "print df.shape\n",
    "# print df.head()"
   ]
  },
  {
   "cell_type": "markdown",
   "metadata": {},
   "source": [
    "Lets address the \"NaN\" values."
   ]
  },
  {
   "cell_type": "code",
   "execution_count": 12,
   "metadata": {
    "collapsed": false
   },
   "outputs": [
    {
     "name": "stdout",
     "output_type": "stream",
     "text": [
      "bonus                        0\n",
      "deferral_payments            0\n",
      "deferred_income              0\n",
      "director_fees                0\n",
      "email_address                0\n",
      "exercised_stock_options      0\n",
      "expenses                     0\n",
      "from_messages                0\n",
      "from_poi_to_this_person      0\n",
      "from_this_person_to_poi      0\n",
      "loan_advances                0\n",
      "long_term_incentive          0\n",
      "other                        0\n",
      "poi                          0\n",
      "restricted_stock             0\n",
      "restricted_stock_deferred    0\n",
      "salary                       0\n",
      "shared_receipt_with_poi      0\n",
      "to_messages                  0\n",
      "total_payments               0\n",
      "total_stock_value            0\n",
      "dtype: int64\n",
      "     bonus  deferral_payments  deferred_income  director_fees  \\\n",
      "0   600000                  0                0              0   \n",
      "1  1200000            1295738         -1386055              0   \n",
      "2   350000                  0          -400729              0   \n",
      "3        0                  0                0              0   \n",
      "4  1500000                  0         -3117011              0   \n",
      "\n",
      "              email_address  exercised_stock_options  expenses  from_messages  \\\n",
      "0      mark.metts@enron.com                        0     94299             29   \n",
      "1                         0                  6680544     11200              0   \n",
      "2  steven.elliott@enron.com                  4890344     78552              0   \n",
      "3     bill.cordes@enron.com                   651850         0             12   \n",
      "4    kevin.hannon@enron.com                  5538001     34039             32   \n",
      "\n",
      "   from_poi_to_this_person  from_this_person_to_poi        ...          \\\n",
      "0                       38                        1        ...           \n",
      "1                        0                        0        ...           \n",
      "2                        0                        0        ...           \n",
      "3                       10                        0        ...           \n",
      "4                       32                       21        ...           \n",
      "\n",
      "   long_term_incentive    other    poi restricted_stock  \\\n",
      "0                    0     1740  False           585062   \n",
      "1              1586055  2660303  False          3942714   \n",
      "2                    0    12961  False          1788391   \n",
      "3                    0        0  False           386335   \n",
      "4              1617011    11350   True           853064   \n",
      "\n",
      "   restricted_stock_deferred  salary  shared_receipt_with_poi  to_messages  \\\n",
      "0                          0  365788                      702          807   \n",
      "1                          0  267102                        0            0   \n",
      "2                          0  170941                        0            0   \n",
      "3                          0       0                       58          764   \n",
      "4                          0  243293                     1035         1045   \n",
      "\n",
      "   total_payments  total_stock_value  \n",
      "0         1061827             585062  \n",
      "1         5634343           10623258  \n",
      "2          211725            6678735  \n",
      "3               0            1038185  \n",
      "4          288682            6391065  \n",
      "\n",
      "[5 rows x 21 columns]\n"
     ]
    },
    {
     "data": {
      "text/html": [
       "<div style=\"max-height:1000px;max-width:1500px;overflow:auto;\">\n",
       "<table border=\"1\" class=\"dataframe\">\n",
       "  <thead>\n",
       "    <tr style=\"text-align: right;\">\n",
       "      <th></th>\n",
       "      <th>bonus</th>\n",
       "      <th>deferral_payments</th>\n",
       "      <th>deferred_income</th>\n",
       "      <th>director_fees</th>\n",
       "      <th>exercised_stock_options</th>\n",
       "      <th>expenses</th>\n",
       "      <th>from_messages</th>\n",
       "      <th>from_poi_to_this_person</th>\n",
       "      <th>from_this_person_to_poi</th>\n",
       "      <th>loan_advances</th>\n",
       "      <th>long_term_incentive</th>\n",
       "      <th>other</th>\n",
       "      <th>poi</th>\n",
       "      <th>restricted_stock</th>\n",
       "      <th>restricted_stock_deferred</th>\n",
       "      <th>salary</th>\n",
       "      <th>shared_receipt_with_poi</th>\n",
       "      <th>to_messages</th>\n",
       "      <th>total_payments</th>\n",
       "      <th>total_stock_value</th>\n",
       "    </tr>\n",
       "  </thead>\n",
       "  <tbody>\n",
       "    <tr>\n",
       "      <th>count</th>\n",
       "      <td>     144.000000</td>\n",
       "      <td>     144.000000</td>\n",
       "      <td>     144.000000</td>\n",
       "      <td>    144.000000</td>\n",
       "      <td>      144.000000</td>\n",
       "      <td>    144.000000</td>\n",
       "      <td>   144.000000</td>\n",
       "      <td> 144.000000</td>\n",
       "      <td> 144.000000</td>\n",
       "      <td>      144.00000</td>\n",
       "      <td>     144.000000</td>\n",
       "      <td>      144.000000</td>\n",
       "      <td>       144</td>\n",
       "      <td>      144.000000</td>\n",
       "      <td>      144.000000</td>\n",
       "      <td>     144.000000</td>\n",
       "      <td>  144.000000</td>\n",
       "      <td>   144.000000</td>\n",
       "      <td> 1.440000e+02</td>\n",
       "      <td>      144.000000</td>\n",
       "    </tr>\n",
       "    <tr>\n",
       "      <th>mean</th>\n",
       "      <td>  675997.354167</td>\n",
       "      <td>  222089.555556</td>\n",
       "      <td> -193683.270833</td>\n",
       "      <td>   9980.319444</td>\n",
       "      <td>  2075801.979167</td>\n",
       "      <td>  35375.340278</td>\n",
       "      <td>   363.583333</td>\n",
       "      <td>  38.756944</td>\n",
       "      <td>  24.625000</td>\n",
       "      <td>   582812.50000</td>\n",
       "      <td>  336957.833333</td>\n",
       "      <td>   294745.534722</td>\n",
       "      <td>     0.125</td>\n",
       "      <td>   868536.291667</td>\n",
       "      <td>    73417.902778</td>\n",
       "      <td>  185446.034722</td>\n",
       "      <td>  702.611111</td>\n",
       "      <td>  1238.555556</td>\n",
       "      <td> 2.256543e+06</td>\n",
       "      <td>  2909785.611111</td>\n",
       "    </tr>\n",
       "    <tr>\n",
       "      <th>std</th>\n",
       "      <td> 1233155.255938</td>\n",
       "      <td>  754101.302578</td>\n",
       "      <td>  606011.135120</td>\n",
       "      <td>  31300.575144</td>\n",
       "      <td>  4795513.145239</td>\n",
       "      <td>  45309.303038</td>\n",
       "      <td>  1450.675239</td>\n",
       "      <td>  74.276769</td>\n",
       "      <td>  79.778266</td>\n",
       "      <td>  6794471.77894</td>\n",
       "      <td>  687182.567651</td>\n",
       "      <td>  1131325.452833</td>\n",
       "      <td> 0.3318733</td>\n",
       "      <td>  2016572.388715</td>\n",
       "      <td>  1301983.390377</td>\n",
       "      <td>  197042.123807</td>\n",
       "      <td> 1077.290736</td>\n",
       "      <td>  2237.564816</td>\n",
       "      <td> 8.847189e+06</td>\n",
       "      <td>  6189018.075043</td>\n",
       "    </tr>\n",
       "    <tr>\n",
       "      <th>min</th>\n",
       "      <td>       0.000000</td>\n",
       "      <td> -102500.000000</td>\n",
       "      <td>-3504386.000000</td>\n",
       "      <td>      0.000000</td>\n",
       "      <td>        0.000000</td>\n",
       "      <td>      0.000000</td>\n",
       "      <td>     0.000000</td>\n",
       "      <td>   0.000000</td>\n",
       "      <td>   0.000000</td>\n",
       "      <td>        0.00000</td>\n",
       "      <td>       0.000000</td>\n",
       "      <td>        0.000000</td>\n",
       "      <td>     False</td>\n",
       "      <td> -2604490.000000</td>\n",
       "      <td> -1787380.000000</td>\n",
       "      <td>       0.000000</td>\n",
       "      <td>    0.000000</td>\n",
       "      <td>     0.000000</td>\n",
       "      <td> 0.000000e+00</td>\n",
       "      <td>   -44093.000000</td>\n",
       "    </tr>\n",
       "    <tr>\n",
       "      <th>25%</th>\n",
       "      <td>       0.000000</td>\n",
       "      <td>       0.000000</td>\n",
       "      <td>  -37086.000000</td>\n",
       "      <td>      0.000000</td>\n",
       "      <td>        0.000000</td>\n",
       "      <td>      0.000000</td>\n",
       "      <td>     0.000000</td>\n",
       "      <td>   0.000000</td>\n",
       "      <td>   0.000000</td>\n",
       "      <td>        0.00000</td>\n",
       "      <td>       0.000000</td>\n",
       "      <td>        0.000000</td>\n",
       "      <td>         0</td>\n",
       "      <td>    24345.000000</td>\n",
       "      <td>        0.000000</td>\n",
       "      <td>       0.000000</td>\n",
       "      <td>    0.000000</td>\n",
       "      <td>     0.000000</td>\n",
       "      <td> 9.019275e+04</td>\n",
       "      <td>   244326.500000</td>\n",
       "    </tr>\n",
       "    <tr>\n",
       "      <th>50%</th>\n",
       "      <td>  300000.000000</td>\n",
       "      <td>       0.000000</td>\n",
       "      <td>       0.000000</td>\n",
       "      <td>      0.000000</td>\n",
       "      <td>   608293.500000</td>\n",
       "      <td>  20182.000000</td>\n",
       "      <td>    17.500000</td>\n",
       "      <td>   4.000000</td>\n",
       "      <td>   0.000000</td>\n",
       "      <td>        0.00000</td>\n",
       "      <td>       0.000000</td>\n",
       "      <td>      919.000000</td>\n",
       "      <td>         0</td>\n",
       "      <td>   360528.000000</td>\n",
       "      <td>        0.000000</td>\n",
       "      <td>  210596.000000</td>\n",
       "      <td>  114.000000</td>\n",
       "      <td>   347.500000</td>\n",
       "      <td> 9.413595e+05</td>\n",
       "      <td>   965955.000000</td>\n",
       "    </tr>\n",
       "    <tr>\n",
       "      <th>75%</th>\n",
       "      <td>  800000.000000</td>\n",
       "      <td>    8535.500000</td>\n",
       "      <td>       0.000000</td>\n",
       "      <td>      0.000000</td>\n",
       "      <td>  1683580.250000</td>\n",
       "      <td>  53328.250000</td>\n",
       "      <td>    53.000000</td>\n",
       "      <td>  41.250000</td>\n",
       "      <td>  14.000000</td>\n",
       "      <td>        0.00000</td>\n",
       "      <td>  374586.250000</td>\n",
       "      <td>   148577.000000</td>\n",
       "      <td>         0</td>\n",
       "      <td>   737456.000000</td>\n",
       "      <td>        0.000000</td>\n",
       "      <td>  269667.500000</td>\n",
       "      <td>  933.750000</td>\n",
       "      <td>  1623.000000</td>\n",
       "      <td> 1.945668e+06</td>\n",
       "      <td>  2295175.750000</td>\n",
       "    </tr>\n",
       "    <tr>\n",
       "      <th>max</th>\n",
       "      <td> 8000000.000000</td>\n",
       "      <td> 6426990.000000</td>\n",
       "      <td>       0.000000</td>\n",
       "      <td> 137864.000000</td>\n",
       "      <td> 34348384.000000</td>\n",
       "      <td> 228763.000000</td>\n",
       "      <td> 14368.000000</td>\n",
       "      <td> 528.000000</td>\n",
       "      <td> 609.000000</td>\n",
       "      <td> 81525000.00000</td>\n",
       "      <td> 5145434.000000</td>\n",
       "      <td> 10359729.000000</td>\n",
       "      <td>      True</td>\n",
       "      <td> 14761694.000000</td>\n",
       "      <td> 15456290.000000</td>\n",
       "      <td> 1111258.000000</td>\n",
       "      <td> 5521.000000</td>\n",
       "      <td> 15149.000000</td>\n",
       "      <td> 1.035598e+08</td>\n",
       "      <td> 49110078.000000</td>\n",
       "    </tr>\n",
       "  </tbody>\n",
       "</table>\n",
       "</div>"
      ],
      "text/plain": [
       "                bonus  deferral_payments  deferred_income  director_fees  \\\n",
       "count      144.000000         144.000000       144.000000     144.000000   \n",
       "mean    675997.354167      222089.555556   -193683.270833    9980.319444   \n",
       "std    1233155.255938      754101.302578    606011.135120   31300.575144   \n",
       "min          0.000000     -102500.000000  -3504386.000000       0.000000   \n",
       "25%          0.000000           0.000000    -37086.000000       0.000000   \n",
       "50%     300000.000000           0.000000         0.000000       0.000000   \n",
       "75%     800000.000000        8535.500000         0.000000       0.000000   \n",
       "max    8000000.000000     6426990.000000         0.000000  137864.000000   \n",
       "\n",
       "       exercised_stock_options       expenses  from_messages  \\\n",
       "count               144.000000     144.000000     144.000000   \n",
       "mean            2075801.979167   35375.340278     363.583333   \n",
       "std             4795513.145239   45309.303038    1450.675239   \n",
       "min                   0.000000       0.000000       0.000000   \n",
       "25%                   0.000000       0.000000       0.000000   \n",
       "50%              608293.500000   20182.000000      17.500000   \n",
       "75%             1683580.250000   53328.250000      53.000000   \n",
       "max            34348384.000000  228763.000000   14368.000000   \n",
       "\n",
       "       from_poi_to_this_person  from_this_person_to_poi   loan_advances  \\\n",
       "count               144.000000               144.000000       144.00000   \n",
       "mean                 38.756944                24.625000    582812.50000   \n",
       "std                  74.276769                79.778266   6794471.77894   \n",
       "min                   0.000000                 0.000000         0.00000   \n",
       "25%                   0.000000                 0.000000         0.00000   \n",
       "50%                   4.000000                 0.000000         0.00000   \n",
       "75%                  41.250000                14.000000         0.00000   \n",
       "max                 528.000000               609.000000  81525000.00000   \n",
       "\n",
       "       long_term_incentive            other        poi  restricted_stock  \\\n",
       "count           144.000000       144.000000        144        144.000000   \n",
       "mean         336957.833333    294745.534722      0.125     868536.291667   \n",
       "std          687182.567651   1131325.452833  0.3318733    2016572.388715   \n",
       "min               0.000000         0.000000      False   -2604490.000000   \n",
       "25%               0.000000         0.000000          0      24345.000000   \n",
       "50%               0.000000       919.000000          0     360528.000000   \n",
       "75%          374586.250000    148577.000000          0     737456.000000   \n",
       "max         5145434.000000  10359729.000000       True   14761694.000000   \n",
       "\n",
       "       restricted_stock_deferred          salary  shared_receipt_with_poi  \\\n",
       "count                 144.000000      144.000000               144.000000   \n",
       "mean                73417.902778   185446.034722               702.611111   \n",
       "std               1301983.390377   197042.123807              1077.290736   \n",
       "min              -1787380.000000        0.000000                 0.000000   \n",
       "25%                     0.000000        0.000000                 0.000000   \n",
       "50%                     0.000000   210596.000000               114.000000   \n",
       "75%                     0.000000   269667.500000               933.750000   \n",
       "max              15456290.000000  1111258.000000              5521.000000   \n",
       "\n",
       "        to_messages  total_payments  total_stock_value  \n",
       "count    144.000000    1.440000e+02         144.000000  \n",
       "mean    1238.555556    2.256543e+06     2909785.611111  \n",
       "std     2237.564816    8.847189e+06     6189018.075043  \n",
       "min        0.000000    0.000000e+00      -44093.000000  \n",
       "25%        0.000000    9.019275e+04      244326.500000  \n",
       "50%      347.500000    9.413595e+05      965955.000000  \n",
       "75%     1623.000000    1.945668e+06     2295175.750000  \n",
       "max    15149.000000    1.035598e+08    49110078.000000  "
      ]
     },
     "execution_count": 12,
     "metadata": {},
     "output_type": "execute_result"
    }
   ],
   "source": [
    "df_imp = df.replace(to_replace=numpy.nan, value=0)\n",
    "df_imp = df.fillna(0).copy(deep=True)\n",
    "df_imp.columns = list(df.columns.values)\n",
    "print df_imp.isnull().sum()\n",
    "print df_imp.head()\n",
    "\n",
    "df_imp.describe()"
   ]
  },
  {
   "cell_type": "markdown",
   "metadata": {},
   "source": [
    "##Feature Selection:"
   ]
  },
  {
   "cell_type": "markdown",
   "metadata": {},
   "source": [
    "I can see some of the features more important than others, but to be on the safe side I am going to use the already provided scikit-learns SelectKBest method to get best features.\n",
    "\n",
    "### Use scikit-learn's SelectKBest feature selection:"
   ]
  },
  {
   "cell_type": "code",
   "execution_count": 13,
   "metadata": {
    "collapsed": true
   },
   "outputs": [],
   "source": [
    "def get_k_best(enron_data, features_list, k):\n",
    "    \"\"\" runs scikit-learn's SelectKBest feature selection\n",
    "        returns dict where keys=features, values=scores\n",
    "    \"\"\"\n",
    "    data = featureFormat(enron_data, features_list)\n",
    "    labels, features = targetFeatureSplit(data)\n",
    "\n",
    "    k_best = SelectKBest(k=k)\n",
    "    k_best.fit(features, labels)\n",
    "    scores = k_best.scores_\n",
    "    unsorted_pairs = zip(features_list[1:], scores)\n",
    "    sorted_pairs = list(reversed(sorted(unsorted_pairs, key=lambda x: x[1])))\n",
    "    k_best_features = dict(sorted_pairs[:k])\n",
    "    print \"{0} best features: {1}\\n\".format(k, k_best_features.keys())\n",
    "    print k_best_features\n",
    "    return k_best_features"
   ]
  },
  {
   "cell_type": "code",
   "execution_count": 14,
   "metadata": {
    "collapsed": false
   },
   "outputs": [
    {
     "name": "stdout",
     "output_type": "stream",
     "text": [
      "12 best features: ['salary', 'total_payments', 'loan_advances', 'bonus', 'total_stock_value', 'shared_receipt_with_poi', 'from_poi_to_this_person', 'exercised_stock_options', 'deferred_income', 'expenses', 'restricted_stock', 'long_term_incentive']\n",
      "\n",
      "{'salary': 18.289684043404513, 'total_payments': 8.7727777300916792, 'loan_advances': 7.1840556582887247, 'bonus': 20.792252047181535, 'total_stock_value': 24.182898678566879, 'shared_receipt_with_poi': 8.589420731682381, 'from_poi_to_this_person': 5.2434497133749582, 'exercised_stock_options': 24.815079733218194, 'deferred_income': 11.458476579280369, 'expenses': 6.0941733106389453, 'restricted_stock': 9.2128106219771002, 'long_term_incentive': 9.9221860131898225}\n",
      "{'salary': 18.289684043404513, 'total_payments': 8.7727777300916792, 'loan_advances': 7.1840556582887247, 'bonus': 20.792252047181535, 'total_stock_value': 24.182898678566879, 'shared_receipt_with_poi': 8.589420731682381, 'from_poi_to_this_person': 5.2434497133749582, 'exercised_stock_options': 24.815079733218194, 'deferred_income': 11.458476579280369, 'expenses': 6.0941733106389453, 'restricted_stock': 9.2128106219771002, 'long_term_incentive': 9.9221860131898225}\n",
      "12 selected features: ['salary', 'total_payments', 'loan_advances', 'bonus', 'total_stock_value', 'shared_receipt_with_poi', 'from_poi_to_this_person', 'exercised_stock_options', 'deferred_income', 'expenses', 'restricted_stock', 'long_term_incentive']\n",
      "\n"
     ]
    }
   ],
   "source": [
    "# get K-best features\n",
    "target_label = 'poi'\n",
    "from sklearn.feature_selection import SelectKBest\n",
    "num_features = 12 # 12 best features\n",
    "best_features = get_k_best(enron_data, features_list, num_features)\n",
    "print best_features\n",
    "my_feature_list = [target_label] + best_features.keys()\n",
    "# print my_feature_list\n",
    "\n",
    "print \"{0} selected features: {1}\\n\".format(len(my_feature_list) - 1, my_feature_list[1:])"
   ]
  },
  {
   "cell_type": "markdown",
   "metadata": {},
   "source": [
    "Since we found our best features courtsey of SelecKBest, Next task is to see if I need to engineer some new features that will help me with my analysis."
   ]
  },
  {
   "cell_type": "markdown",
   "metadata": {},
   "source": [
    "##Feature Engineering:"
   ]
  },
  {
   "cell_type": "code",
   "execution_count": 15,
   "metadata": {
    "collapsed": false
   },
   "outputs": [
    {
     "name": "stdout",
     "output_type": "stream",
     "text": [
      "['poi', 'salary', 'total_payments', 'loan_advances', 'bonus', 'total_stock_value', 'shared_receipt_with_poi', 'from_poi_to_this_person', 'exercised_stock_options', 'deferred_income', 'expenses', 'restricted_stock', 'long_term_incentive', 'poi_ratio', 'fraction_to_poi', 'fraction_from_poi']\n",
      "['poi', 'salary', 'total_payments', 'loan_advances', 'bonus', 'total_stock_value', 'shared_receipt_with_poi', 'from_poi_to_this_person', 'exercised_stock_options', 'deferred_income', 'expenses', 'restricted_stock', 'long_term_incentive', 'poi_ratio', 'fraction_to_poi', 'fraction_from_poi']\n"
     ]
    }
   ],
   "source": [
    "import warnings\n",
    "warnings.filterwarnings('ignore')\n",
    "\n",
    "#Engineerd Features are:\n",
    "eng_feat1='poi_ratio'\n",
    "eng_feat2='fraction_to_poi'\n",
    "eng_feat3='fraction_from_poi'\n",
    "\n",
    "\n",
    "# add'em\n",
    "enron.add_poi_ratio(enron_data, my_feature_list)\n",
    "enron.add_fraction_to_poi(enron_data, my_feature_list)\n",
    "enron.add_fraction_from_poi(enron_data, my_feature_list)\n",
    "\n",
    "\n",
    "eng_feature_list=my_feature_list \n",
    "print my_feature_list\n",
    "print eng_feature_list\n"
   ]
  },
  {
   "cell_type": "markdown",
   "metadata": {},
   "source": [
    "##Feature Scaling:"
   ]
  },
  {
   "cell_type": "code",
   "execution_count": 16,
   "metadata": {
    "collapsed": false
   },
   "outputs": [],
   "source": [
    "# extract the features specified in features_list\n",
    "data = featureFormat(enron_data, eng_feature_list)\n",
    "\n",
    "labels, features = targetFeatureSplit(data)\n",
    "\n",
    "# scale features via min-max\n",
    "from sklearn import preprocessing\n",
    "\n",
    "scaler = preprocessing.MinMaxScaler()\n",
    "features = scaler.fit_transform(features)\n",
    "\n"
   ]
  },
  {
   "cell_type": "markdown",
   "metadata": {},
   "source": [
    "##splitting data into training and test:\n",
    "\n",
    "We are going to use 30% of the data as test and validation.  70% is going to be used as training."
   ]
  },
  {
   "cell_type": "code",
   "execution_count": 17,
   "metadata": {
    "collapsed": false
   },
   "outputs": [
    {
     "name": "stdout",
     "output_type": "stream",
     "text": [
      "[0.0, 0.0, 0.0, 0.0, 1.0, 0.0, 0.0, 0.0, 0.0, 0.0, 0.0, 0.0, 0.0, 0.0, 0.0, 0.0, 1.0, 0.0, 0.0, 0.0, 0.0, 0.0, 0.0, 0.0, 0.0, 0.0, 0.0, 0.0, 0.0, 0.0, 1.0, 0.0, 0.0, 0.0, 0.0, 0.0, 0.0, 0.0, 0.0, 0.0, 0.0, 1.0, 0.0, 0.0, 0.0, 0.0, 0.0, 0.0, 0.0, 0.0, 0.0, 0.0, 0.0, 1.0, 0.0, 0.0, 0.0, 0.0, 0.0, 0.0, 1.0, 0.0, 0.0, 0.0, 0.0, 1.0, 0.0, 0.0, 0.0, 0.0, 0.0, 0.0, 0.0, 0.0, 0.0, 0.0, 1.0, 0.0, 0.0, 0.0, 0.0, 0.0, 1.0, 0.0, 0.0, 1.0, 0.0, 1.0, 1.0, 0.0, 0.0, 0.0, 0.0, 0.0, 1.0, 0.0, 0.0, 0.0, 0.0, 0.0, 0.0, 0.0, 0.0, 0.0, 0.0, 0.0, 0.0, 0.0, 0.0, 0.0, 0.0, 0.0, 0.0, 0.0, 0.0, 0.0, 0.0, 0.0, 0.0, 0.0, 0.0, 0.0, 1.0, 1.0, 0.0, 0.0, 0.0, 0.0, 0.0, 0.0, 0.0, 0.0, 1.0, 0.0, 0.0, 0.0, 0.0, 0.0, 0.0, 1.0, 0.0, 0.0, 1.0]\n",
      "[[ 0.32916568  0.01025327  0.         ...,  0.20793561  0.03448276\n",
      "   0.2166548 ]\n",
      " [ 0.24036002  0.05440667  0.         ...,  0.          0.          0.        ]\n",
      " [ 0.15382656  0.00204447  0.         ...,  0.          0.          0.        ]\n",
      " ..., \n",
      " [ 0.23866105  0.01055103  0.         ...,  0.          0.          0.        ]\n",
      " [ 0.25070776  0.00845656  0.         ...,  1.          0.5         1.        ]\n",
      " [ 0.24744479  0.0122855   0.         ...,  0.29080159  0.375       0.27406108]]\n"
     ]
    }
   ],
   "source": [
    "features_train,features_test,labels_train,labels_test = sklearn.cross_validation.train_test_split(features,labels, test_size=0.3, random_state=42)\n",
    "\n",
    "\n",
    "print labels\n",
    "print features"
   ]
  },
  {
   "cell_type": "markdown",
   "metadata": {},
   "source": [
    "##Looking at different models\n",
    "\n",
    "Let us iterarte through list to pick the best models."
   ]
  },
  {
   "cell_type": "code",
   "execution_count": 18,
   "metadata": {
    "collapsed": false
   },
   "outputs": [
    {
     "name": "stdout",
     "output_type": "stream",
     "text": [
      " \n",
      "Classifier:\n",
      "KNeighborsClassifier(algorithm='auto', leaf_size=30, metric='minkowski',\n",
      "           metric_params=None, n_neighbors=3, p=2, weights='uniform')\n",
      "precision: 0.253785714286\n",
      "recall:    0.0921881673882\n",
      "Accuracy: 0.84 (+/- 0.00)\n",
      "=====================================================================\n",
      " \n",
      "Classifier:\n",
      "SVC(C=0.025, cache_size=200, class_weight=None, coef0=0.0, degree=3,\n",
      "  gamma=0.0, kernel='linear', max_iter=-1, probability=False,\n",
      "  random_state=None, shrinking=True, tol=0.001, verbose=False)\n",
      "precision: 0.0\n",
      "recall:    0.0\n",
      "Accuracy: 0.84 (+/- 0.00)\n",
      "=====================================================================\n",
      " \n",
      "Classifier:\n",
      "SVC(C=1, cache_size=200, class_weight=None, coef0=0.0, degree=3, gamma=2,\n",
      "  kernel='rbf', max_iter=-1, probability=False, random_state=None,\n",
      "  shrinking=True, tol=0.001, verbose=False)\n",
      "precision: 0.0\n",
      "recall:    0.0\n",
      "Accuracy: 0.84 (+/- 0.00)\n",
      "=====================================================================\n",
      " \n",
      "Classifier:\n",
      "DecisionTreeClassifier(class_weight=None, criterion='gini', max_depth=5,\n",
      "            max_features=None, max_leaf_nodes=None, min_samples_leaf=1,\n",
      "            min_samples_split=2, min_weight_fraction_leaf=0.0,\n",
      "            random_state=None, splitter='best')\n",
      "precision: 0.288648470973\n",
      "recall:    0.30294025974\n",
      "Accuracy: 0.81 (+/- 0.00)\n",
      "=====================================================================\n",
      " \n",
      "Classifier:\n",
      "RandomForestClassifier(bootstrap=True, class_weight=None, criterion='gini',\n",
      "            max_depth=5, max_features=1, max_leaf_nodes=None,\n",
      "            min_samples_leaf=1, min_samples_split=2,\n",
      "            min_weight_fraction_leaf=0.0, n_estimators=10, n_jobs=1,\n",
      "            oob_score=False, random_state=None, verbose=0,\n",
      "            warm_start=False)\n",
      "precision: 0.325664285714\n",
      "recall:    0.117108333333\n",
      "Accuracy: 0.84 (+/- 0.00)\n",
      "=====================================================================\n",
      " \n",
      "Classifier:\n",
      "AdaBoostClassifier(algorithm='SAMME.R', base_estimator=None,\n",
      "          learning_rate=1.0, n_estimators=50, random_state=None)\n",
      "precision: 0.321126623377\n",
      "recall:    0.232191955267\n",
      "Accuracy: 0.79 (+/- 0.00)\n",
      "=====================================================================\n",
      " \n",
      "Classifier:\n",
      "GaussianNB()\n",
      "precision: 0.334318809716\n",
      "recall:    0.337202272727\n",
      "Accuracy: 0.58 (+/- 0.00)\n",
      "=====================================================================\n",
      " \n",
      "Classifier:\n",
      "ExtraTreesClassifier(bootstrap=False, class_weight=None, criterion='gini',\n",
      "           max_depth=None, max_features='auto', max_leaf_nodes=None,\n",
      "           min_samples_leaf=1, min_samples_split=2,\n",
      "           min_weight_fraction_leaf=0.0, n_estimators=10, n_jobs=1,\n",
      "           oob_score=False, random_state=None, verbose=0, warm_start=False)\n",
      "precision: 0.339851190476\n",
      "recall:    0.156566269841\n",
      "Accuracy: 0.84 (+/- 0.00)\n",
      "=====================================================================\n"
     ]
    }
   ],
   "source": [
    "from sklearn.tree import DecisionTreeClassifier\n",
    "from sklearn.ensemble import ExtraTreesClassifier\n",
    "from sklearn.ensemble import AdaBoostClassifier\n",
    "from sklearn.ensemble import RandomForestClassifier\n",
    "from sklearn.neighbors import KNeighborsClassifier\n",
    "from sklearn.svm import SVC\n",
    "from sklearn.naive_bayes import GaussianNB\n",
    "\n",
    "names = [\"Nearest Neighbors\", \"Linear SVM\", \"RBF SVM\", \"Decision Tree\",\n",
    "         \"Random Forest\", \"AdaBoost\", \"Naive Bayes\", \"Extra Trees\"]\n",
    "\n",
    "classifiers = [\n",
    "    KNeighborsClassifier(3),\n",
    "    SVC(kernel=\"linear\", C=0.025),\n",
    "    SVC(gamma=2, C=1),\n",
    "    DecisionTreeClassifier(max_depth=5),\n",
    "    RandomForestClassifier(max_depth=5, n_estimators=10, max_features=1),\n",
    "    AdaBoostClassifier(),\n",
    "    GaussianNB(),\n",
    "    ExtraTreesClassifier()]\n",
    "\n",
    "\n",
    " # iterate over classifiers\n",
    "for name, clf in zip(names, classifiers):\n",
    "        clf.fit(features_train,labels_train)\n",
    "        scores = clf.score(features_test,labels_test)\n",
    "        print \" \"\n",
    "        print \"Classifier:\"\n",
    "        evaluate.evaluate_clf(clf, features, labels, num_iters=1000, test_size=0.3)\n",
    "        print(\"Accuracy: %0.2f (+/- %0.2f)\" % (scores.mean(), scores.std() * 2))\n",
    "        print \"=====================================================================\""
   ]
  },
  {
   "cell_type": "markdown",
   "metadata": {},
   "source": [
    "The model I am picking DecisionTreeClassifier.\n",
    "Let us use the grid_search.GridSearchCV to tune these models\n",
    "\n",
    "###Model tuning using grid_search.GridSearchCV"
   ]
  },
  {
   "cell_type": "markdown",
   "metadata": {},
   "source": [
    "#### define cv and scoring"
   ]
  },
  {
   "cell_type": "code",
   "execution_count": 19,
   "metadata": {
    "collapsed": false
   },
   "outputs": [],
   "source": [
    "from sklearn import grid_search\n",
    "from sklearn.tree import DecisionTreeClassifier\n",
    "\n",
    "cv = sklearn.cross_validation.StratifiedShuffleSplit(labels, n_iter=10)\n",
    "def scoring(estimator, features_test, labels_test):\n",
    "     labels_pred = estimator.predict(features_test)\n",
    "     p = sklearn.metrics.precision_score(labels_test, labels_pred, average='micro')\n",
    "     r = sklearn.metrics.recall_score(labels_test, labels_pred, average='micro')\n",
    "     if p > 0.3 and r > 0.3:\n",
    "            return sklearn.metrics.f1_score(labels_test, labels_pred, average='macro')\n",
    "     return 0\n"
   ]
  },
  {
   "cell_type": "markdown",
   "metadata": {},
   "source": [
    "###DecisionTreeClassifier tunning"
   ]
  },
  {
   "cell_type": "code",
   "execution_count": 20,
   "metadata": {
    "collapsed": false
   },
   "outputs": [
    {
     "name": "stdout",
     "output_type": "stream",
     "text": [
      "DecisionTreeClassifier(class_weight=None, criterion='entropy', max_depth=3,\n",
      "            max_features=None, max_leaf_nodes=None, min_samples_leaf=1,\n",
      "            min_samples_split=4, min_weight_fraction_leaf=0.0,\n",
      "            random_state=None, splitter='best')\n",
      "0.7\n",
      "Processing time: 14.754 s\n"
     ]
    }
   ],
   "source": [
    "t0 = time()\n",
    "parameters = {'max_depth': [1,2,3,4,5,6,8,9,10],'min_samples_split':[1,2,3,4,5],'min_samples_leaf':[1,2,3,4,5,6,7,8], 'criterion':('gini', 'entropy')}\n",
    "\n",
    "dtc_clf = sklearn.tree.DecisionTreeClassifier() \n",
    "dtcclf = grid_search.GridSearchCV(dtc_clf, parameters, scoring = scoring, cv = cv)\n",
    "\n",
    "dtcclf.fit(features, labels)\n",
    "print dtcclf.best_estimator_\n",
    "print dtcclf.best_score_\n",
    "print 'Processing time:',round(time()-t0,3) ,'s'\n"
   ]
  },
  {
   "cell_type": "markdown",
   "metadata": {},
   "source": [
    "##Classifier validation"
   ]
  },
  {
   "cell_type": "markdown",
   "metadata": {},
   "source": [
    "### DecisionTreeClassifier  Validation 1 (StratifiedShuffleSplit, folds = 1000)"
   ]
  },
  {
   "cell_type": "code",
   "execution_count": 21,
   "metadata": {
    "collapsed": false,
    "scrolled": false
   },
   "outputs": [
    {
     "name": "stdout",
     "output_type": "stream",
     "text": [
      "DecisionTreeClassifier(class_weight=None, criterion='entropy', max_depth=3,\n",
      "            max_features=None, max_leaf_nodes=None, min_samples_leaf=1,\n",
      "            min_samples_split=4, min_weight_fraction_leaf=0.0,\n",
      "            random_state=None, splitter='best')\n",
      "\tAccuracy: 0.86120\tPrecision: 0.47828\tRecall: 0.45150\tF1: 0.46451\tF2: 0.45661\n",
      "\tTotal predictions: 15000\tTrue positives:  903\tFalse positives:  985\tFalse negatives: 1097\tTrue negatives: 12015\n",
      "\n",
      "Processing time: 0.981 s\n"
     ]
    }
   ],
   "source": [
    "t0 = time()\n",
    "dtc_best_clf = dtcclf.best_estimator_\n",
    "   \n",
    "test_classifier(dtc_best_clf, enron_data, eng_feature_list)\n",
    "\n",
    "print 'Processing time:',round(time()-t0,3) ,'s'"
   ]
  },
  {
   "cell_type": "markdown",
   "metadata": {},
   "source": [
    "###DecisionTreeClassifier Validation 2 (Randomized, partitioned trials, n=1,000)"
   ]
  },
  {
   "cell_type": "code",
   "execution_count": 22,
   "metadata": {
    "collapsed": false
   },
   "outputs": [
    {
     "name": "stdout",
     "output_type": "stream",
     "text": [
      "DecisionTreeClassifier(class_weight=None, criterion='entropy', max_depth=3,\n",
      "            max_features=None, max_leaf_nodes=None, min_samples_leaf=1,\n",
      "            min_samples_split=4, min_weight_fraction_leaf=0.0,\n",
      "            random_state=None, splitter='best')\n",
      "precision: 0.329986610612\n",
      "recall:    0.312753463203\n",
      "Accuracy: 0.84 (+/- 0.00)\n",
      "Processing time: 1.669 s\n"
     ]
    }
   ],
   "source": [
    "t0 = time()\n",
    "dtc_best_clf = dtcclf.best_estimator_\n",
    "   \n",
    "evaluate.evaluate_clf(dtc_best_clf, features, labels, num_iters=1000, test_size=0.3)\n",
    "print(\"Accuracy: %0.2f (+/- %0.2f)\" % (scores.mean(), scores.std() * 2))\n",
    "print 'Processing time:',round(time()-t0,3) ,'s'"
   ]
  },
  {
   "cell_type": "code",
   "execution_count": null,
   "metadata": {
    "collapsed": true
   },
   "outputs": [],
   "source": []
  }
 ],
 "metadata": {
  "kernelspec": {
   "display_name": "Python 2",
   "language": "python",
   "name": "python2"
  },
  "language_info": {
   "codemirror_mode": {
    "name": "ipython",
    "version": 2
   },
   "file_extension": ".py",
   "mimetype": "text/x-python",
   "name": "python",
   "nbconvert_exporter": "python",
   "pygments_lexer": "ipython2",
   "version": "2.7.9"
  }
 },
 "nbformat": 4,
 "nbformat_minor": 0
}
